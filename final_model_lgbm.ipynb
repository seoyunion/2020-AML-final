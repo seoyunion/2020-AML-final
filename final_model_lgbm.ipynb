{
 "cells": [
  {
   "cell_type": "code",
   "execution_count": null,
   "metadata": {
    "id": "4alGnUPdJSsx"
   },
   "outputs": [],
   "source": [
    "import pandas as pd\n",
    "import numpy as np\n",
    "import os"
   ]
  },
  {
   "cell_type": "code",
   "execution_count": null,
   "metadata": {
    "id": "8pZhe5k1JUWU"
   },
   "outputs": [],
   "source": [
    "from google.colab import drive\n",
    "drive.mount('/content/gdrive/')\n"
   ]
  },
  {
   "cell_type": "code",
   "execution_count": null,
   "metadata": {
    "id": "sVowaHfAJXAu"
   },
   "outputs": [],
   "source": [
    "os.chdir('/content/gdrive/My Drive/주분')"
   ]
  },
  {
   "cell_type": "code",
   "execution_count": null,
   "metadata": {
    "id": "O-XoWwb3JaDM"
   },
   "outputs": [],
   "source": [
    "train_nonanswer = pd.read_csv(\"train_nonanswer_jo_sum_final.csv\")\n",
    "test_nonanswer = pd.read_csv(\"test_nonanswer_jo_sum.csv\")"
   ]
  },
  {
   "cell_type": "code",
   "execution_count": null,
   "metadata": {
    "id": "AHb6v6ImJA72"
   },
   "outputs": [],
   "source": [
    "##------------- 'party','user_id' drop---------------------##\n",
    "\n",
    "nonanswer_x = train_nonanswer.drop(['Party','USER_ID'],axis = 1)\n",
    "nonanswer_y = train_nonanswer['Party']"
   ]
  },
  {
   "cell_type": "code",
   "execution_count": null,
   "metadata": {
    "id": "UYbH5crHJHBA"
   },
   "outputs": [],
   "source": [
    "##------------- X 변수들 dummy화 해주기---------------------##\n",
    "nonanswer_x_d = pd.get_dummies(nonanswer_x)"
   ]
  },
  {
   "cell_type": "code",
   "execution_count": null,
   "metadata": {
    "id": "-AM6jWUAJKQY"
   },
   "outputs": [],
   "source": [
    "##------------- test set dummy화 & user_id drop 해주기---------------------##\n",
    "test_nonanswer_d=pd.get_dummies(test_nonanswer)\n",
    "test_nonanswer_d = test_nonanswer_d.drop(['USER_ID'],axis = 1)"
   ]
  },
  {
   "cell_type": "markdown",
   "metadata": {
    "id": "yXpgIrWsJuXA"
   },
   "source": []
  },
  {
   "cell_type": "code",
   "execution_count": null,
   "metadata": {
    "id": "OilbZIdkJdsV"
   },
   "outputs": [],
   "source": [
    "from lightgbm import LGBMClassifier as lgb\n",
    "from bayes_opt import BayesianOptimization\n",
    "from sklearn.model_selection import train_test_split,GridSearchCV\n",
    "from sklearn.metrics import accuracy_score\n",
    "from sklearn.model_seleciont import KFold,StratifiedKFold\n",
    "from sklearn.model_selection import cross_val_score"
   ]
  },
  {
   "cell_type": "code",
   "execution_count": null,
   "metadata": {
    "id": "L8Y4kdqtI-1y"
   },
   "outputs": [],
   "source": [
    "best_param= {'eval_metric' : 'accuracy',\n",
    "              'early_stopping_rounds' : 20, \n",
    "              'verbose' :-1,\n",
    "              'bagging_fraction':0.0002, #\n",
    "         'colsample_bytree':0, #\n",
    "         'feature_fraction':0.7, #\n",
    "         'learning_rate':0.003, #\n",
    "         'max_depth':-1, #\n",
    "         'min_child_weight':40, #\n",
    "         'n_estimators':900, #\n",
    "         'num_leaves': 30, #\n",
    "         'reg_alph':0, #\n",
    "         'reg_lambda':40, #\n",
    "         'subsample':1, #\n",
    "         'max_bin':800 #\n",
    "}\n"
   ]
  },
  {
   "cell_type": "code",
   "execution_count": null,
   "metadata": {
    "id": "lEBwIakFJir5"
   },
   "outputs": [],
   "source": [
    "train_X, val_X, train_y, val_y = train_test_split(nonanswer_x_d, nonanswer_y, test_size = 0.15, train_size = 0.85, random_state = 123)\n",
    "      \n",
    "# lgb()\n",
    "model_grid =lgb(**best_param,random_seed = 123)\n",
    "\n",
    "# 모델 학습\n",
    "model_grid.fit(train_X, train_y, eval_set=(val_X, val_y))"
   ]
  },
  {
   "cell_type": "code",
   "execution_count": null,
   "metadata": {
    "id": "V6LAmRdZJ6yi"
   },
   "outputs": [],
   "source": [
    "pred_y = model_grid.predict(test_nonanswer_d)"
   ]
  },
  {
   "cell_type": "code",
   "execution_count": null,
   "metadata": {
    "id": "XL_0Neg4KEr5"
   },
   "outputs": [],
   "source": [
    "user_id = list(test_nonanswer['USER_ID'])\n",
    "\n",
    "submission_grid=pd.DataFrame({'USER_ID':user_id, 'Predictions':pred_y})"
   ]
  },
  {
   "cell_type": "code",
   "execution_count": null,
   "metadata": {
    "id": "EWzDqjS5KMcQ"
   },
   "outputs": [],
   "source": [
    "submission_grid.to_csv('submission_grid.csv',index=False)"
   ]
  },
  {
   "cell_type": "code",
   "execution_count": null,
   "metadata": {
    "id": "TDOHLJa8KRCT"
   },
   "outputs": [],
   "source": [
    "!pip install shap"
   ]
  },
  {
   "cell_type": "code",
   "execution_count": null,
   "metadata": {
    "id": "oypVtayHKUsu"
   },
   "outputs": [],
   "source": [
    "# Shpley Value 패키지\n",
    "\n",
    "import shap\n",
    "\n",
    "# Shpley Value 보기\n",
    "\n",
    "explainer = shap.TreeExplainer(model_grid)\n",
    "shap_values = explainer.shap_values(test_nonanswer_d)\n",
    "\n",
    "shap.initjs()\n",
    "shap.summary_plot(shap_values[1],test_nonanswer_d,plot_type = 'bar')"
   ]
  }
 ],
 "metadata": {
  "colab": {
   "name": "최종 모델_lgbm.ipynb",
   "provenance": []
  },
  "kernelspec": {
   "display_name": "Python 3",
   "language": "python",
   "name": "python3"
  },
  "language_info": {
   "codemirror_mode": {
    "name": "ipython",
    "version": 3
   },
   "file_extension": ".py",
   "mimetype": "text/x-python",
   "name": "python",
   "nbconvert_exporter": "python",
   "pygments_lexer": "ipython3",
   "version": "3.8.3"
  }
 },
 "nbformat": 4,
 "nbformat_minor": 1
}
